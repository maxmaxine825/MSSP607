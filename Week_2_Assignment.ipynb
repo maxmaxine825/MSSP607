{
  "nbformat": 4,
  "nbformat_minor": 0,
  "metadata": {
    "colab": {
      "provenance": [],
      "authorship_tag": "ABX9TyPnIZnMrPXEi5b5IjnKVuBn",
      "include_colab_link": true
    },
    "kernelspec": {
      "name": "python3",
      "display_name": "Python 3"
    },
    "language_info": {
      "name": "python"
    }
  },
  "cells": [
    {
      "cell_type": "markdown",
      "metadata": {
        "id": "view-in-github",
        "colab_type": "text"
      },
      "source": [
        "<a href=\"https://colab.research.google.com/github/maxmaxine825/MSSP607/blob/main/Week_2_Assignment.ipynb\" target=\"_parent\"><img src=\"https://colab.research.google.com/assets/colab-badge.svg\" alt=\"Open In Colab\"/></a>"
      ]
    },
    {
      "cell_type": "code",
      "execution_count": 9,
      "metadata": {
        "colab": {
          "base_uri": "https://localhost:8080/"
        },
        "id": "_Vyc4GVHLg49",
        "outputId": "075efbfd-4f12-4365-ed7e-9352baa4a899"
      },
      "outputs": [
        {
          "output_type": "stream",
          "name": "stdout",
          "text": [
            "[2, 4, 'hello', 8, 10]\n"
          ]
        }
      ],
      "source": [
        "spam = [2,4,6,8,10]\n",
        "spam[2] = 'hello'\n",
        "print(spam)"
      ]
    },
    {
      "cell_type": "code",
      "source": [
        "letters = ['a', 'b', 'c', 'd']\n",
        "\n",
        "ans1 = letters[int(int('3'*2)//11)]\n",
        "print(f'letters[int(\"3\"*2)//11] evaluates to {ans1}')\n",
        "#'3' * 2 --> '33', int('33') --> 33, 33//11 --> 3, letters[3] = 'd'\n",
        "\n",
        "ans2 = letters[-1]\n",
        "print(f'letters[-1] evaluate to {ans2}')\n",
        "#Negative indices mean you count from the end of the sequence.\n",
        "#-1 specifically refers to the last element.\n",
        "\n",
        "ans3 = letters[:2]\n",
        "print(f'letters[:2] evaluate to {ans3}')\n",
        "#[:2] means take elements from the beginning up to index 2(exlusive)"
      ],
      "metadata": {
        "colab": {
          "base_uri": "https://localhost:8080/"
        },
        "id": "so3atVpFMIXa",
        "outputId": "197ca265-5d62-44e2-f1b3-d574a54adaf9"
      },
      "execution_count": 7,
      "outputs": [
        {
          "output_type": "stream",
          "name": "stdout",
          "text": [
            "letters[int(\"3\"*2)//11] evaluates to d\n",
            "letters[-1] evaluate to d\n",
            "letters[:2] evaluate to ['a', 'b']\n"
          ]
        }
      ]
    },
    {
      "cell_type": "code",
      "source": [
        "#convert a list to tuple\n",
        "example_list =['apples', 'bananas', 'tofu', 'cats']\n",
        "example_tuple = tuple(example_list)\n",
        "print(f'Tuple form {example_tuple}')\n",
        "\n",
        "#convert a tuple to list\n",
        "example_list = list(example_tuple)\n",
        "print(f'list form {example_list}')"
      ],
      "metadata": {
        "colab": {
          "base_uri": "https://localhost:8080/"
        },
        "id": "Zgl7jhh0OLQW",
        "outputId": "867a7d97-fb25-409e-d43a-b927ea67cb95"
      },
      "execution_count": 13,
      "outputs": [
        {
          "output_type": "stream",
          "name": "stdout",
          "text": [
            "Tuple form ('apples', 'bananas', 'tofu', 'cats')\n",
            "list form ['apples', 'bananas', 'tofu', 'cats']\n"
          ]
        }
      ]
    },
    {
      "cell_type": "code",
      "source": [
        "spam = ['apples', 'bananas', 'tofu', 'cats']\n",
        "\n",
        "def get_string(x):\n",
        "  if not x:\n",
        "    return 'list is empty'\n",
        "  elif len(x) == 1:\n",
        "    return x[0]\n",
        "  else:\n",
        "    return ', '.join(x[0:-1]) + ', and ' + x[-1]\n",
        "\n",
        "#Test\n",
        "get_string(spam)"
      ],
      "metadata": {
        "colab": {
          "base_uri": "https://localhost:8080/",
          "height": 35
        },
        "id": "k62QC4GuOTuY",
        "outputId": "52289e87-6ad5-44c2-cf42-ed8e90f467d9"
      },
      "execution_count": 11,
      "outputs": [
        {
          "output_type": "execute_result",
          "data": {
            "text/plain": [
              "'apples, bananas, tofu, and cats'"
            ],
            "application/vnd.google.colaboratory.intrinsic+json": {
              "type": "string"
            }
          },
          "metadata": {},
          "execution_count": 11
        }
      ]
    }
  ]
}