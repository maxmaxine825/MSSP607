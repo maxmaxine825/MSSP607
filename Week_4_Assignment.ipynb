{
  "nbformat": 4,
  "nbformat_minor": 0,
  "metadata": {
    "colab": {
      "provenance": [],
      "mount_file_id": "1dN_gjw2J7vueIFrciv_vh5dXyAQq1YpB",
      "authorship_tag": "ABX9TyMJiUi4CrfdJfJ+oAKiVIPd",
      "include_colab_link": true
    },
    "kernelspec": {
      "name": "python3",
      "display_name": "Python 3"
    },
    "language_info": {
      "name": "python"
    }
  },
  "cells": [
    {
      "cell_type": "markdown",
      "metadata": {
        "id": "view-in-github",
        "colab_type": "text"
      },
      "source": [
        "<a href=\"https://colab.research.google.com/github/maxmaxine825/MSSP607/blob/main/Week_4_Assignment.ipynb\" target=\"_parent\"><img src=\"https://colab.research.google.com/assets/colab-badge.svg\" alt=\"Open In Colab\"/></a>"
      ]
    },
    {
      "cell_type": "code",
      "execution_count": 21,
      "metadata": {
        "colab": {
          "base_uri": "https://localhost:8080/"
        },
        "id": "0JzN4FO6cgpg",
        "outputId": "12402040-b210-42a6-d2c9-7f462ba070b9"
      },
      "outputs": [
        {
          "output_type": "stream",
          "name": "stdout",
          "text": [
            "Cloning into 'MSSP607'...\n",
            "remote: Enumerating objects: 107, done.\u001b[K\n",
            "remote: Counting objects:   0% (1/107)\u001b[K\rremote: Counting objects:   1% (2/107)\u001b[K\rremote: Counting objects:   2% (3/107)\u001b[K\rremote: Counting objects:   3% (4/107)\u001b[K\rremote: Counting objects:   4% (5/107)\u001b[K\rremote: Counting objects:   5% (6/107)\u001b[K\rremote: Counting objects:   6% (7/107)\u001b[K\rremote: Counting objects:   7% (8/107)\u001b[K\rremote: Counting objects:   8% (9/107)\u001b[K\rremote: Counting objects:   9% (10/107)\u001b[K\rremote: Counting objects:  10% (11/107)\u001b[K\rremote: Counting objects:  11% (12/107)\u001b[K\rremote: Counting objects:  12% (13/107)\u001b[K\rremote: Counting objects:  13% (14/107)\u001b[K\rremote: Counting objects:  14% (15/107)\u001b[K\rremote: Counting objects:  15% (17/107)\u001b[K\rremote: Counting objects:  16% (18/107)\u001b[K\rremote: Counting objects:  17% (19/107)\u001b[K\rremote: Counting objects:  18% (20/107)\u001b[K\rremote: Counting objects:  19% (21/107)\u001b[K\rremote: Counting objects:  20% (22/107)\u001b[K\rremote: Counting objects:  21% (23/107)\u001b[K\rremote: Counting objects:  22% (24/107)\u001b[K\rremote: Counting objects:  23% (25/107)\u001b[K\rremote: Counting objects:  24% (26/107)\u001b[K\rremote: Counting objects:  25% (27/107)\u001b[K\rremote: Counting objects:  26% (28/107)\u001b[K\rremote: Counting objects:  27% (29/107)\u001b[K\rremote: Counting objects:  28% (30/107)\u001b[K\rremote: Counting objects:  29% (32/107)\u001b[K\rremote: Counting objects:  30% (33/107)\u001b[K\rremote: Counting objects:  31% (34/107)\u001b[K\rremote: Counting objects:  32% (35/107)\u001b[K\rremote: Counting objects:  33% (36/107)\u001b[K\rremote: Counting objects:  34% (37/107)\u001b[K\rremote: Counting objects:  35% (38/107)\u001b[K\rremote: Counting objects:  36% (39/107)\u001b[K\rremote: Counting objects:  37% (40/107)\u001b[K\rremote: Counting objects:  38% (41/107)\u001b[K\rremote: Counting objects:  39% (42/107)\u001b[K\rremote: Counting objects:  40% (43/107)\u001b[K\rremote: Counting objects:  41% (44/107)\u001b[K\rremote: Counting objects:  42% (45/107)\u001b[K\rremote: Counting objects:  43% (47/107)\u001b[K\rremote: Counting objects:  44% (48/107)\u001b[K\rremote: Counting objects:  45% (49/107)\u001b[K\rremote: Counting objects:  46% (50/107)\u001b[K\rremote: Counting objects:  47% (51/107)\u001b[K\rremote: Counting objects:  48% (52/107)\u001b[K\rremote: Counting objects:  49% (53/107)\u001b[K\rremote: Counting objects:  50% (54/107)\u001b[K\rremote: Counting objects:  51% (55/107)\u001b[K\rremote: Counting objects:  52% (56/107)\u001b[K\rremote: Counting objects:  53% (57/107)\u001b[K\rremote: Counting objects:  54% (58/107)\u001b[K\rremote: Counting objects:  55% (59/107)\u001b[K\rremote: Counting objects:  56% (60/107)\u001b[K\rremote: Counting objects:  57% (61/107)\u001b[K\rremote: Counting objects:  58% (63/107)\u001b[K\rremote: Counting objects:  59% (64/107)\u001b[K\rremote: Counting objects:  60% (65/107)\u001b[K\rremote: Counting objects:  61% (66/107)\u001b[K\rremote: Counting objects:  62% (67/107)\u001b[K\rremote: Counting objects:  63% (68/107)\u001b[K\rremote: Counting objects:  64% (69/107)\u001b[K\rremote: Counting objects:  65% (70/107)\u001b[K\rremote: Counting objects:  66% (71/107)\u001b[K\rremote: Counting objects:  67% (72/107)\u001b[K\rremote: Counting objects:  68% (73/107)\u001b[K\rremote: Counting objects:  69% (74/107)\u001b[K\rremote: Counting objects:  70% (75/107)\u001b[K\rremote: Counting objects:  71% (76/107)\u001b[K\rremote: Counting objects:  72% (78/107)\u001b[K\rremote: Counting objects:  73% (79/107)\u001b[K\rremote: Counting objects:  74% (80/107)\u001b[K\rremote: Counting objects:  75% (81/107)\u001b[K\rremote: Counting objects:  76% (82/107)\u001b[K\rremote: Counting objects:  77% (83/107)\u001b[K\rremote: Counting objects:  78% (84/107)\u001b[K\rremote: Counting objects:  79% (85/107)\u001b[K\rremote: Counting objects:  80% (86/107)\u001b[K\rremote: Counting objects:  81% (87/107)\u001b[K\rremote: Counting objects:  82% (88/107)\u001b[K\rremote: Counting objects:  83% (89/107)\u001b[K\rremote: Counting objects:  84% (90/107)\u001b[K\rremote: Counting objects:  85% (91/107)\u001b[K\rremote: Counting objects:  86% (93/107)\u001b[K\rremote: Counting objects:  87% (94/107)\u001b[K\rremote: Counting objects:  88% (95/107)\u001b[K\rremote: Counting objects:  89% (96/107)\u001b[K\rremote: Counting objects:  90% (97/107)\u001b[K\rremote: Counting objects:  91% (98/107)\u001b[K\rremote: Counting objects:  92% (99/107)\u001b[K\rremote: Counting objects:  93% (100/107)\u001b[K\rremote: Counting objects:  94% (101/107)\u001b[K\rremote: Counting objects:  95% (102/107)\u001b[K\rremote: Counting objects:  96% (103/107)\u001b[K\rremote: Counting objects:  97% (104/107)\u001b[K\rremote: Counting objects:  98% (105/107)\u001b[K\rremote: Counting objects:  99% (106/107)\u001b[K\rremote: Counting objects: 100% (107/107)\u001b[K\rremote: Counting objects: 100% (107/107), done.\u001b[K\n",
            "remote: Compressing objects: 100% (84/84), done.\u001b[K\n",
            "remote: Total 107 (delta 60), reused 36 (delta 18), pack-reused 0 (from 0)\u001b[K\n",
            "Receiving objects: 100% (107/107), 585.13 KiB | 4.50 MiB/s, done.\n",
            "Resolving deltas: 100% (60/60), done.\n",
            "/content/MSSP607/MSSP607\n"
          ]
        }
      ],
      "source": [
        "!git clone https://github.com/maxmaxine825/MSSP607.git\n",
        "%cd MSSP607"
      ]
    },
    {
      "cell_type": "code",
      "source": [
        "import pandas as pd\n",
        "da = pd.read_csv(\"data/parsed.csv\")"
      ],
      "metadata": {
        "id": "sGPQaYTufBOX"
      },
      "execution_count": 22,
      "outputs": []
    },
    {
      "cell_type": "code",
      "source": [
        "#a. Find the 95th percentile of earthquake magnitude in Japan using magType of 'mb'\n",
        "magnitude_japan = da[(da[\"parsed_place\"] == 'Japan') & (da['magType'] == 'mb')]\n",
        "p95 = magnitude_japan['mag'].quantile(0.95)\n",
        "print(f\"The 95th percentile of earthquake magnitude in Japan is {p95}\")"
      ],
      "metadata": {
        "colab": {
          "base_uri": "https://localhost:8080/"
        },
        "id": "GzuNYgycdA60",
        "outputId": "c7cd03d6-4868-428b-dc1f-2909aab4059d"
      },
      "execution_count": 23,
      "outputs": [
        {
          "output_type": "stream",
          "name": "stdout",
          "text": [
            "The 95th percentile of earthquake magnitude in Japan is 4.9\n"
          ]
        }
      ]
    },
    {
      "cell_type": "code",
      "source": [
        "#b. Find the percentage of earthquakes in Indonesia that were coupled with tsunamis.\n",
        "earthquake_indonesia = da[da[\"parsed_place\"] == 'Indonesia']\n",
        "percentage_tsunami = earthquake_indonesia['tsunami'].sum() / len(earthquake_indonesia) * 100\n",
        "print(f\"The percentage of earthquakes in Indonesia that were coupled with tsunamis is {percentage_tsunami}%\")"
      ],
      "metadata": {
        "colab": {
          "base_uri": "https://localhost:8080/"
        },
        "id": "KShHBCDriG_s",
        "outputId": "0e32d7d8-c04e-4292-f590-ce76409a1701"
      },
      "execution_count": 24,
      "outputs": [
        {
          "output_type": "stream",
          "name": "stdout",
          "text": [
            "The percentage of earthquakes in Indonesia that were coupled with tsunamis is 23.12925170068027%\n"
          ]
        }
      ]
    },
    {
      "cell_type": "code",
      "source": [
        "#Get summary statistics for earthquakes in Nevada\n",
        "earthquake_nevada = da[da[\"parsed_place\"] == 'Nevada']\n",
        "summary_nevada = earthquake_nevada[\"mag\"].describe()\n",
        "print(summary_nevada)"
      ],
      "metadata": {
        "colab": {
          "base_uri": "https://localhost:8080/"
        },
        "id": "wJV6jI8Sjk5O",
        "outputId": "e7fb2a29-4227-4a53-b621-1b823ad64119"
      },
      "execution_count": 25,
      "outputs": [
        {
          "output_type": "stream",
          "name": "stdout",
          "text": [
            "count    681.000000\n",
            "mean       0.500073\n",
            "std        0.696710\n",
            "min       -0.500000\n",
            "25%       -0.100000\n",
            "50%        0.400000\n",
            "75%        0.900000\n",
            "max        2.900000\n",
            "Name: mag, dtype: float64\n"
          ]
        }
      ]
    },
    {
      "cell_type": "code",
      "source": [
        "#Add a column to the dataframe indicating whether or not the earthquake happened in a country or US state that is on the Ring of Fire.\n",
        "#Use Bolivia, Chile, Ecuador, Peru, Costa Rica, Guatemala, Mexico (be sure not to select New Mexico), Japan, Philippines, Indonesia,\n",
        "#New Zealand, Antarctica (look for the Antarctic), Canada, Fiji, Alaska, Washington, California, Russia, Taiwan, Tonga, and the Kermadec Islands).\n",
        "ring_of_fire = [\n",
        "    \"Bolivia\", \"Chile\", \"Ecuador\", \"Peru\", \"Costa Rica\", \"Guatemala\", \"Mexico\",\n",
        "    \"Japan\", \"Philippines\", \"Indonesia\", \"New Zealand\", \"Antarctic\", \"Canada\",\n",
        "    \"Fiji\", \"Alaska\", \"Washington\", \"California\", \"Russia\", \"Taiwan\", \"Tonga\",\n",
        "    \"Kermadec\"\n",
        "]\n",
        "\n",
        "def in_ring_of_fire(place):\n",
        "    if pd.isna(place):\n",
        "        return False\n",
        "\n",
        "    if \"Mexico\" in place:\n",
        "        if \"New Mexico\" in place:\n",
        "            return False\n",
        "        return True\n",
        "\n",
        "    for loc in ring_of_fire:\n",
        "        if loc.lower() in place.lower():\n",
        "            return True\n",
        "    return False\n",
        "\n",
        "da[\"Ring_of_Fire\"] = da[\"parsed_place\"].apply(in_ring_of_fire)\n",
        "\n",
        "print(da[[\"parsed_place\", \"Ring_of_Fire\"]].head(15))"
      ],
      "metadata": {
        "colab": {
          "base_uri": "https://localhost:8080/"
        },
        "id": "nrD1PJR2kV2a",
        "outputId": "0e99df2e-0af9-4689-ac8a-f92b94bfeb60"
      },
      "execution_count": 26,
      "outputs": [
        {
          "output_type": "stream",
          "name": "stdout",
          "text": [
            "          parsed_place  Ring_of_Fire\n",
            "0           California          True\n",
            "1           California          True\n",
            "2           California          True\n",
            "3           California          True\n",
            "4           California          True\n",
            "5   Dominican Republic         False\n",
            "6               Alaska          True\n",
            "7           California          True\n",
            "8           California          True\n",
            "9            Indonesia          True\n",
            "10          California          True\n",
            "11  Dominican Republic         False\n",
            "12          California          True\n",
            "13           Indonesia          True\n",
            "14          California          True\n"
          ]
        }
      ]
    },
    {
      "cell_type": "code",
      "source": [
        "#Calculate the number of earthquakes in the Ring of Fire locations and the number outside of them\n",
        "ring_count = da[\"Ring_of_Fire\"].sum()\n",
        "outside_count = len(da) - ring_count\n",
        "\n",
        "print(\"Number of earthquakes in the Ring of Fire:\", ring_count)\n",
        "print(\"Number of earthquakes outside the Ring of Fire:\", outside_count)"
      ],
      "metadata": {
        "colab": {
          "base_uri": "https://localhost:8080/"
        },
        "id": "Ag8MHg1cln70",
        "outputId": "056538d4-c3b9-4cb8-c5eb-0fb552d1a757"
      },
      "execution_count": 27,
      "outputs": [
        {
          "output_type": "stream",
          "name": "stdout",
          "text": [
            "Number of earthquakes in the Ring of Fire: 7188\n",
            "Number of earthquakes outside the Ring of Fire: 2144\n"
          ]
        }
      ]
    },
    {
      "cell_type": "code",
      "source": [
        "# Find the tsunami count along the Ring of Fire.\n",
        "tsunami_ring = da.loc[da[\"Ring_of_Fire\"], \"tsunami\"].sum()\n",
        "\n",
        "print(\"Tsunami count along the Ring of Fire:\", tsunami_ring)"
      ],
      "metadata": {
        "colab": {
          "base_uri": "https://localhost:8080/"
        },
        "id": "cpkJBzIvlyev",
        "outputId": "65486f9b-cc62-4427-c4f4-2ee19d78cfcd"
      },
      "execution_count": 28,
      "outputs": [
        {
          "output_type": "stream",
          "name": "stdout",
          "text": [
            "Tsunami count along the Ring of Fire: 45\n"
          ]
        }
      ]
    }
  ]
}