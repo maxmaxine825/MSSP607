{
  "nbformat": 4,
  "nbformat_minor": 0,
  "metadata": {
    "colab": {
      "provenance": [],
      "mount_file_id": "1dN_gjw2J7vueIFrciv_vh5dXyAQq1YpB",
      "authorship_tag": "ABX9TyNw/m+P5Obx9MhdtVgd8/lz",
      "include_colab_link": true
    },
    "kernelspec": {
      "name": "python3",
      "display_name": "Python 3"
    },
    "language_info": {
      "name": "python"
    }
  },
  "cells": [
    {
      "cell_type": "markdown",
      "metadata": {
        "id": "view-in-github",
        "colab_type": "text"
      },
      "source": [
        "<a href=\"https://colab.research.google.com/github/maxmaxine825/MSSP607/blob/main/Week_4_Assignment.ipynb\" target=\"_parent\"><img src=\"https://colab.research.google.com/assets/colab-badge.svg\" alt=\"Open In Colab\"/></a>"
      ]
    },
    {
      "cell_type": "code",
      "execution_count": 2,
      "metadata": {
        "colab": {
          "base_uri": "https://localhost:8080/"
        },
        "id": "0JzN4FO6cgpg",
        "outputId": "fc2237db-f2fa-4526-ad55-0d7da91eb2df"
      },
      "outputs": [
        {
          "output_type": "stream",
          "name": "stdout",
          "text": [
            "Cloning into 'MSSP607'...\n",
            "remote: Enumerating objects: 115, done.\u001b[K\n",
            "remote: Counting objects: 100% (115/115), done.\u001b[K\n",
            "remote: Compressing objects: 100% (92/92), done.\u001b[K\n",
            "remote: Total 115 (delta 65), reused 36 (delta 18), pack-reused 0 (from 0)\u001b[K\n",
            "Receiving objects: 100% (115/115), 589.04 KiB | 3.13 MiB/s, done.\n",
            "Resolving deltas: 100% (65/65), done.\n",
            "/content/MSSP607\n"
          ]
        }
      ],
      "source": [
        "!git clone https://github.com/maxmaxine825/MSSP607.git\n",
        "%cd MSSP607"
      ]
    },
    {
      "cell_type": "code",
      "source": [
        "import pandas as pd\n",
        "da = pd.read_csv(\"data/parsed.csv\")"
      ],
      "metadata": {
        "id": "sGPQaYTufBOX"
      },
      "execution_count": 3,
      "outputs": []
    },
    {
      "cell_type": "code",
      "source": [
        "#a. Find the 95th percentile of earthquake magnitude in Japan using magType of 'mb'\n",
        "magnitude_japan = da[(da[\"parsed_place\"] == 'Japan') & (da['magType'] == 'mb')]\n",
        "p95 = magnitude_japan['mag'].quantile(0.95)\n",
        "print(f\"The 95th percentile of earthquake magnitude in Japan is {p95}\")"
      ],
      "metadata": {
        "colab": {
          "base_uri": "https://localhost:8080/"
        },
        "id": "GzuNYgycdA60",
        "outputId": "50b18eb2-36b4-49a6-ecc5-f15d240e00cf"
      },
      "execution_count": 4,
      "outputs": [
        {
          "output_type": "stream",
          "name": "stdout",
          "text": [
            "The 95th percentile of earthquake magnitude in Japan is 4.9\n"
          ]
        }
      ]
    },
    {
      "cell_type": "code",
      "source": [
        "#b. Find the percentage of earthquakes in Indonesia that were coupled with tsunamis.\n",
        "earthquake_indonesia = da[da[\"parsed_place\"] == 'Indonesia']\n",
        "percentage_tsunami = earthquake_indonesia['tsunami'].sum() / len(earthquake_indonesia) * 100\n",
        "print(f\"The percentage of earthquakes in Indonesia that were coupled with tsunamis is {percentage_tsunami}%\")"
      ],
      "metadata": {
        "colab": {
          "base_uri": "https://localhost:8080/"
        },
        "id": "KShHBCDriG_s",
        "outputId": "e465aa74-9690-47f3-f9f6-632954496505"
      },
      "execution_count": 5,
      "outputs": [
        {
          "output_type": "stream",
          "name": "stdout",
          "text": [
            "The percentage of earthquakes in Indonesia that were coupled with tsunamis is 23.12925170068027%\n"
          ]
        }
      ]
    },
    {
      "cell_type": "code",
      "source": [
        "#Get summary statistics for earthquakes in Nevada\n",
        "earthquake_nevada = da[da[\"parsed_place\"] == 'Nevada']\n",
        "summary_nevada = earthquake_nevada.describe()\n",
        "print(summary_nevada)"
      ],
      "metadata": {
        "colab": {
          "base_uri": "https://localhost:8080/"
        },
        "id": "wJV6jI8Sjk5O",
        "outputId": "80497d0d-0f06-4cbd-9d52-cc0a10742841"
      },
      "execution_count": 6,
      "outputs": [
        {
          "output_type": "stream",
          "name": "stdout",
          "text": [
            "             cdi        dmin       felt         gap         mag   mmi  \\\n",
            "count  15.000000  681.000000  15.000000  681.000000  681.000000  1.00   \n",
            "mean    2.440000    0.166199   2.400000  153.668120    0.500073  2.84   \n",
            "std     0.501142    0.166228   4.626013   68.735302    0.696710   NaN   \n",
            "min     2.000000    0.001000   1.000000   29.140000   -0.500000  2.84   \n",
            "25%     2.000000    0.053000   1.000000   97.380000   -0.100000  2.84   \n",
            "50%     2.200000    0.112000   1.000000  149.140000    0.400000  2.84   \n",
            "75%     2.900000    0.233000   1.000000  199.720000    0.900000  2.84   \n",
            "max     3.300000    1.414000  19.000000  355.910000    2.900000  2.84   \n",
            "\n",
            "              nst         rms         sig          time  tsunami     tz  \\\n",
            "count  681.000000  681.000000  681.000000  6.810000e+02    681.0  681.0   \n",
            "mean    12.618209    0.151986   10.970631  1.538314e+12      0.0 -480.0   \n",
            "std      9.866963    0.084662   19.607150  5.965637e+08      0.0    0.0   \n",
            "min      3.000000    0.000500    0.000000  1.537247e+12      0.0 -480.0   \n",
            "25%      6.000000    0.106900    0.000000  1.537854e+12      0.0 -480.0   \n",
            "50%     10.000000    0.146300    2.000000  1.538280e+12      0.0 -480.0   \n",
            "75%     16.000000    0.187100   12.000000  1.538821e+12      0.0 -480.0   \n",
            "max     61.000000    0.863400  129.000000  1.539461e+12      0.0 -480.0   \n",
            "\n",
            "            updated  \n",
            "count  6.810000e+02  \n",
            "mean   1.538402e+12  \n",
            "std    6.010951e+08  \n",
            "min    1.537307e+12  \n",
            "25%    1.537928e+12  \n",
            "50%    1.538428e+12  \n",
            "75%    1.538878e+12  \n",
            "max    1.539483e+12  \n"
          ]
        }
      ]
    },
    {
      "cell_type": "code",
      "source": [
        "#Add a column to the dataframe indicating whether or not the earthquake happened in a country or US state that is on the Ring of Fire.\n",
        "#Use Bolivia, Chile, Ecuador, Peru, Costa Rica, Guatemala, Mexico (be sure not to select New Mexico), Japan, Philippines, Indonesia,\n",
        "#New Zealand, Antarctica (look for the Antarctic), Canada, Fiji, Alaska, Washington, California, Russia, Taiwan, Tonga, and the Kermadec Islands).\n",
        "ring_of_fire = [\n",
        "    \"Bolivia\", \"Chile\", \"Ecuador\", \"Peru\", \"Costa Rica\", \"Guatemala\", \"Mexico\",\n",
        "    \"Japan\", \"Philippines\", \"Indonesia\", \"New Zealand\", \"Antarctic\", \"Canada\",\n",
        "    \"Fiji\", \"Alaska\", \"Washington\", \"California\", \"Russia\", \"Taiwan\", \"Tonga\",\n",
        "    \"Kermadec\"\n",
        "]\n",
        "\n",
        "def in_ring_of_fire(place):\n",
        "    if pd.isna(place):\n",
        "        return False\n",
        "\n",
        "    if \"Mexico\" in place:\n",
        "        if \"New Mexico\" in place:\n",
        "            return False\n",
        "        return True\n",
        "\n",
        "    for loc in ring_of_fire:\n",
        "        if loc.lower() in place.lower():\n",
        "            return True\n",
        "    return False\n",
        "\n",
        "da[\"Ring_of_Fire\"] = da[\"parsed_place\"].apply(in_ring_of_fire)\n",
        "\n",
        "print(da[[\"parsed_place\", \"Ring_of_Fire\"]].head(15))"
      ],
      "metadata": {
        "colab": {
          "base_uri": "https://localhost:8080/"
        },
        "id": "nrD1PJR2kV2a",
        "outputId": "20ff276e-e9e9-4400-e9a1-db3be148b80a"
      },
      "execution_count": 7,
      "outputs": [
        {
          "output_type": "stream",
          "name": "stdout",
          "text": [
            "          parsed_place  Ring_of_Fire\n",
            "0           California          True\n",
            "1           California          True\n",
            "2           California          True\n",
            "3           California          True\n",
            "4           California          True\n",
            "5   Dominican Republic         False\n",
            "6               Alaska          True\n",
            "7           California          True\n",
            "8           California          True\n",
            "9            Indonesia          True\n",
            "10          California          True\n",
            "11  Dominican Republic         False\n",
            "12          California          True\n",
            "13           Indonesia          True\n",
            "14          California          True\n"
          ]
        }
      ]
    },
    {
      "cell_type": "code",
      "source": [
        "#Calculate the number of earthquakes in the Ring of Fire locations and the number outside of them\n",
        "ring_count = da[\"Ring_of_Fire\"].sum()\n",
        "outside_count = len(da) - ring_count\n",
        "\n",
        "print(\"Number of earthquakes in the Ring of Fire:\", ring_count)\n",
        "print(\"Number of earthquakes outside the Ring of Fire:\", outside_count)"
      ],
      "metadata": {
        "colab": {
          "base_uri": "https://localhost:8080/"
        },
        "id": "Ag8MHg1cln70",
        "outputId": "4700cfaa-9e64-412e-cf9a-5077bbb1883c"
      },
      "execution_count": 8,
      "outputs": [
        {
          "output_type": "stream",
          "name": "stdout",
          "text": [
            "Number of earthquakes in the Ring of Fire: 7188\n",
            "Number of earthquakes outside the Ring of Fire: 2144\n"
          ]
        }
      ]
    },
    {
      "cell_type": "code",
      "source": [
        "# Find the tsunami count along the Ring of Fire.\n",
        "tsunami_ring = da.loc[da[\"Ring_of_Fire\"], \"tsunami\"].sum()\n",
        "\n",
        "print(\"Tsunami count along the Ring of Fire:\", tsunami_ring)"
      ],
      "metadata": {
        "colab": {
          "base_uri": "https://localhost:8080/"
        },
        "id": "cpkJBzIvlyev",
        "outputId": "3d2179ed-4358-47aa-bcd9-aad3cf9b3232"
      },
      "execution_count": 9,
      "outputs": [
        {
          "output_type": "stream",
          "name": "stdout",
          "text": [
            "Tsunami count along the Ring of Fire: 45\n"
          ]
        }
      ]
    }
  ]
}