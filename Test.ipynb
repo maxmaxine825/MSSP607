{
  "nbformat": 4,
  "nbformat_minor": 0,
  "metadata": {
    "colab": {
      "provenance": [],
      "mount_file_id": "1AUPqf_eIRDbQ7O7VQy-NbSDgPZj36Xfg",
      "authorship_tag": "ABX9TyMgEqrKt9VztbzCf816uf1p",
      "include_colab_link": true
    },
    "kernelspec": {
      "name": "python3",
      "display_name": "Python 3"
    },
    "language_info": {
      "name": "python"
    }
  },
  "cells": [
    {
      "cell_type": "markdown",
      "metadata": {
        "id": "view-in-github",
        "colab_type": "text"
      },
      "source": [
        "<a href=\"https://colab.research.google.com/github/maxmaxine825/MSSP607/blob/main/Test.ipynb\" target=\"_parent\"><img src=\"https://colab.research.google.com/assets/colab-badge.svg\" alt=\"Open In Colab\"/></a>"
      ]
    },
    {
      "cell_type": "code",
      "execution_count": null,
      "metadata": {
        "id": "qcHYLZJMEijv",
        "colab": {
          "base_uri": "https://localhost:8080/"
        },
        "outputId": "68563a51-82fd-42b8-d06c-c9b07adce4ac"
      },
      "outputs": [
        {
          "output_type": "stream",
          "name": "stdout",
          "text": [
            "Cloning into 'MSSP607'...\n",
            "remote: Enumerating objects: 48, done.\u001b[K\n",
            "remote: Counting objects: 100% (48/48), done.\u001b[K\n",
            "remote: Compressing objects: 100% (38/38), done.\u001b[K\n",
            "remote: Total 48 (delta 19), reused 17 (delta 5), pack-reused 0 (from 0)\u001b[K\n",
            "Receiving objects: 100% (48/48), 30.51 KiB | 15.26 MiB/s, done.\n",
            "Resolving deltas: 100% (19/19), done.\n"
          ]
        }
      ],
      "source": [
        "from google.colab import userdata\n",
        "import os\n",
        "\n",
        "github_token = userdata.get('Git_Key')\n",
        "owner = 'maxmaxine825' # Replace with the GitHub repository owner\n",
        "repository = 'MSSP607' # Replace with the GitHub repository name\n",
        "\n",
        "clone_url = f'https://{github_token}@github.com/{owner}/{repository}.git'\n",
        "\n",
        "# Clone the repository\n",
        "!git clone {clone_url}\n",
        "\n",
        "# Navigate into the cloned repository directory (optional, but often useful)\n",
        "# os.chdir(repository)\n",
        "# print(f\"Changed directory to: {os.getcwd()}\")"
      ]
    }
  ]
}