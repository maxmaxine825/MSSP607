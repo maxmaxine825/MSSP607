{
  "nbformat": 4,
  "nbformat_minor": 0,
  "metadata": {
    "colab": {
      "provenance": [],
      "authorship_tag": "ABX9TyNU0pelDHHSmUgcRicVBbj5",
      "include_colab_link": true
    },
    "kernelspec": {
      "name": "python3",
      "display_name": "Python 3"
    },
    "language_info": {
      "name": "python"
    }
  },
  "cells": [
    {
      "cell_type": "markdown",
      "metadata": {
        "id": "view-in-github",
        "colab_type": "text"
      },
      "source": [
        "<a href=\"https://colab.research.google.com/github/maxmaxine825/MSSP607/blob/main/Week3_Assignment.ipynb\" target=\"_parent\"><img src=\"https://colab.research.google.com/assets/colab-badge.svg\" alt=\"Open In Colab\"/></a>"
      ]
    },
    {
      "cell_type": "code",
      "execution_count": null,
      "metadata": {
        "id": "-8oKBYzN-ZuV"
      },
      "outputs": [],
      "source": [
        "#a. When does the code in a function execute: when the function is defined or called?\n",
        "  #The code in a function executes only when the function is called.\n",
        "\n",
        "#b. How many global scopes are there in a Python program? How many local scopes?\n",
        "  #A Python program has exactly one global scope, but it can have many local scopes, one for each function call.\n",
        "\n",
        "#c. What happens to variables in a local scope when the function call returns?\n",
        "  #Variables in a local scope are destroyed once the function call returns.\n",
        "\n",
        "#d. How can you prevent a program from crashing when it gets an error?\n",
        "  #We can prevent a program from crashing by using try and except blocks to handle errors."
      ]
    },
    {
      "cell_type": "code",
      "source": [
        "#The Collatz Sequence Project\n",
        "def collatz(number):\n",
        "  if number %2 == 0:\n",
        "    result = number // 2\n",
        "  else:\n",
        "      result = number * 3 + 1\n",
        "  print(result)\n",
        "  return result\n",
        "\n",
        "try:\n",
        "  n = int(input(\"please enter an integer:\"))\n",
        "  while n != 1:\n",
        "    n = collatz(n)\n",
        "except ValueError:\n",
        "    print(\"You must enter a valid integer.\")"
      ],
      "metadata": {
        "colab": {
          "base_uri": "https://localhost:8080/"
        },
        "id": "RXVJYQGAjy6O",
        "outputId": "883147f8-cfef-479f-c5da-2b2f8b23ccd4"
      },
      "execution_count": 8,
      "outputs": [
        {
          "output_type": "stream",
          "name": "stdout",
          "text": [
            "please enter an integer:3\n",
            "10\n",
            "5\n",
            "16\n",
            "8\n",
            "4\n",
            "2\n",
            "1\n"
          ]
        }
      ]
    }
  ]
}